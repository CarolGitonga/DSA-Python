{
 "cells": [
  {
   "cell_type": "markdown",
   "id": "a8a7e953-d7e7-48d7-a014-d44e31ed2ce5",
   "metadata": {},
   "source": [
    "Write a short Python function, is multiple(n, m), that takes two integer values and returns True if n is a multiple of m, that is, n = mi for some\n",
    "integer i, and False otherwise."
   ]
  },
  {
   "cell_type": "code",
   "execution_count": 20,
   "id": "74ffb239-f4f1-4b5c-875d-11a078081b75",
   "metadata": {},
   "outputs": [
    {
     "name": "stdout",
     "output_type": "stream",
     "text": [
      "True\n",
      "False\n",
      "True\n"
     ]
    }
   ],
   "source": [
    "def is_multiple(n, m):\n",
    "    return n % m == 0\n",
    "print(is_multiple(10, 5))\n",
    "print(is_multiple(5, 10))\n",
    "print(is_multiple(8, 4))"
   ]
  },
  {
   "cell_type": "markdown",
   "id": "0efaa28a-898a-471f-a919-2f6987cb4720",
   "metadata": {},
   "source": [
    "Write a short Python function, is even(k), that takes an integer value and returns True if k is even, and False otherwise. However, your function\n",
    "cannot use the multiplication, modulo, or division operators."
   ]
  },
  {
   "cell_type": "code",
   "execution_count": 27,
   "id": "63bc31a4-f185-48e8-9405-a1342086bf50",
   "metadata": {},
   "outputs": [
    {
     "name": "stdout",
     "output_type": "stream",
     "text": [
      "True\n",
      "False\n"
     ]
    }
   ],
   "source": [
    "def is_even(k):\n",
    "    return (k & 1) == 0 # Bitwise AND with 1 will give 0 for even numbers and 1 for odd numbers\n",
    "print(is_even(4))\n",
    "print(is_even(5))"
   ]
  },
  {
   "cell_type": "code",
   "execution_count": null,
   "id": "0c5d8ee4-d8b1-4685-a320-5383cb3ca53d",
   "metadata": {},
   "outputs": [],
   "source": [
    "Write a short Python function, minmax(data), that takes a sequence of one or more numbers, and returns the smallest and largest numbers, in the\n",
    "form of a tuple of length two. Do not use the built-in functions min or max in implementing your solution."
   ]
  },
  {
   "cell_type": "code",
   "execution_count": 45,
   "id": "1d1b508e-667d-4719-beb4-be314ac184aa",
   "metadata": {},
   "outputs": [
    {
     "name": "stdout",
     "output_type": "stream",
     "text": [
      "(1, 9)\n",
      "None\n",
      "(-10, 100)\n",
      "(7, 7)\n"
     ]
    }
   ],
   "source": [
    "def minmax(data):\n",
    "    if not data:\n",
    "        return None\n",
    "    # Initialize min and max with the first element of data\n",
    "    min_num = data[0]\n",
    "    max_num = data[0]\n",
    "    # Iterate through the sequence starting from the second element\n",
    "    for num in data[1:]:\n",
    "        if num < min_num:\n",
    "            min_num = num\n",
    "        elif num > max_num:\n",
    "            max_num = num\n",
    "    return min_num, max_num\n",
    "print(minmax([3, 1, 4, 1, 5, 9, 2]))\n",
    "print(minmax([]))\n",
    "print(minmax([-10, 0, 100, 50, -5]))\n",
    "print(minmax([7]))  \n",
    "    "
   ]
  },
  {
   "cell_type": "markdown",
   "id": "a22ac236-84e2-4db4-a144-241f1a05faa7",
   "metadata": {},
   "source": [
    "Write a short Python function that takes a positive integer n and returns the sum of the squares of all the positive integers smaller than n."
   ]
  },
  {
   "cell_type": "code",
   "execution_count": 48,
   "id": "442ba55f-f402-4626-b2e7-7412dc6423ba",
   "metadata": {},
   "outputs": [
    {
     "name": "stdout",
     "output_type": "stream",
     "text": [
      "30\n",
      "1\n"
     ]
    }
   ],
   "source": [
    "def sum_of_squares(n):\n",
    "    sum_squares = 0  # Initialize the sum\n",
    "    for i in range(1, n):  # Iterate from 1 to n-1 (inclusive)\n",
    "        sum_squares += i * i   # Add the square of each number to the sum\n",
    "    return sum_squares\n",
    "print(sum_of_squares(5))\n",
    "print(sum_of_squares(2))"
   ]
  },
  {
   "cell_type": "markdown",
   "id": "4637be05-dec1-4cff-8535-4de0b66e3dd3",
   "metadata": {},
   "source": [
    "Give a single command that computes the sum from the above relying on Python’s comprehension syntax and the built-in sum function."
   ]
  },
  {
   "cell_type": "code",
   "execution_count": 52,
   "id": "51123f38-1735-429f-aa02-aa9eaa756b4e",
   "metadata": {},
   "outputs": [
    {
     "name": "stdout",
     "output_type": "stream",
     "text": [
      "30\n",
      "1\n"
     ]
    }
   ],
   "source": [
    "def sum_of_squares(n):\n",
    "    sum_squares = sum([ i * i for i in range (1, n)])\n",
    "    return sum_squares\n",
    "print(sum_of_squares(5))\n",
    "print(sum_of_squares(2))\n"
   ]
  },
  {
   "cell_type": "markdown",
   "id": "8da6acf5-38b3-4380-9715-6ffd527dfbec",
   "metadata": {},
   "source": [
    "Write a short Python function that takes a positive integer n and returns the sum of the squares of all the odd positive integers smaller than n."
   ]
  },
  {
   "cell_type": "code",
   "execution_count": 59,
   "id": "2b9488d4-995c-4378-874f-0c4c3c3f49a8",
   "metadata": {},
   "outputs": [
    {
     "name": "stdout",
     "output_type": "stream",
     "text": [
      "165\n"
     ]
    }
   ],
   "source": [
    "def sum_of_odd_squares(n):\n",
    "    sum_squares = 0\n",
    "    for i in range(1, n, 2):  # To consider only odd numbers\n",
    "        sum_squares += i * i\n",
    "    return sum_squares\n",
    "print(sum_of_odd_squares(10))"
   ]
  },
  {
   "cell_type": "markdown",
   "id": "5a18d00c-1be1-461c-88f8-1d156f16e950",
   "metadata": {},
   "source": [
    "Give a single command that computes the sum from the above, relying on Python’s comprehension syntax and the built-in sum function."
   ]
  },
  {
   "cell_type": "code",
   "execution_count": 60,
   "id": "b965e2bf-ae8e-4d6e-b854-a8ce3df5e6e2",
   "metadata": {},
   "outputs": [
    {
     "name": "stdout",
     "output_type": "stream",
     "text": [
      "165\n"
     ]
    }
   ],
   "source": [
    "def sum_of_odd_squares(n):\n",
    "    sum_squares = sum([i * i for i in range(1, n, 2)])\n",
    "    return sum_squares\n",
    "print(sum_of_odd_squares(10))\n"
   ]
  },
  {
   "cell_type": "code",
   "execution_count": null,
   "id": "ab589471-651f-43db-af0a-0c81d147c42b",
   "metadata": {},
   "outputs": [],
   "source": []
  }
 ],
 "metadata": {
  "kernelspec": {
   "display_name": "Python 3 (ipykernel)",
   "language": "python",
   "name": "python3"
  },
  "language_info": {
   "codemirror_mode": {
    "name": "ipython",
    "version": 3
   },
   "file_extension": ".py",
   "mimetype": "text/x-python",
   "name": "python",
   "nbconvert_exporter": "python",
   "pygments_lexer": "ipython3",
   "version": "3.12.2"
  }
 },
 "nbformat": 4,
 "nbformat_minor": 5
}
