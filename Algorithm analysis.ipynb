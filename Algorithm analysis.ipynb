{
 "cells": [
  {
   "cell_type": "code",
   "execution_count": null,
   "id": "8d8d2bba-54b2-47cb-81d6-e70408d1bf84",
   "metadata": {},
   "outputs": [],
   "source": [
    "Asymptotic analysis. The running time of an algorithm grows proportionally to n"
   ]
  },
  {
   "cell_type": "code",
   "execution_count": 17,
   "id": "602573ba-de25-4f12-a91a-0b8d0760996c",
   "metadata": {},
   "outputs": [
    {
     "name": "stdout",
     "output_type": "stream",
     "text": [
      "9\n",
      "-2\n",
      "10\n",
      "7\n",
      "42\n",
      "None\n"
     ]
    }
   ],
   "source": [
    "def find_max(data):\n",
    "    if not data:\n",
    "        return None\n",
    "    biggest = data[0] # initial value\n",
    "    for val in data:\n",
    "        if val > biggest: # if its greater than the best so far\n",
    "           biggest = val # new best vale\n",
    "    return biggest # biggest is the max\n",
    "# Test case 1: List with positive numbers\n",
    "print(find_max([1, 5, 3, 9, 2]))  # Output: 9\n",
    "\n",
    "# Test case 2: List with negative numbers\n",
    "print(find_max([-10, -5, -3, -9, -2]))  # Output: -2\n",
    "\n",
    "# Test case 3: List with mixed positive and negative numbers\n",
    "print(find_max([10, -5, 3, -9, 2]))  # Output: 10\n",
    "\n",
    "# Test case 4: List with repeating maximum value\n",
    "print(find_max([7, 4, 7, 4, 7, 4]))  # Output: 7\n",
    "\n",
    "# Test case 5: List with one element\n",
    "print(find_max([42]))  # Output: 42\n",
    "\n",
    "# Test case 6: Empty list\n",
    "print(find_max([]))  # Output: None (assuming the function returns None for an empty list)    "
   ]
  },
  {
   "cell_type": "code",
   "execution_count": null,
   "id": "10f5d0ee-996d-45cf-8aff-abe39911c43d",
   "metadata": {},
   "outputs": [],
   "source": [
    "A Quadratic time algorithm. Can be used in financial analysis to analyze stock price trends, filtering noisy signals, analyzing\n",
    "performance metric over time, analyzing perfrmance trends over multiple games in sports"
   ]
  },
  {
   "cell_type": "code",
   "execution_count": 4,
   "id": "f81e9f2c-b56a-4cc1-8f40-29f700312bfa",
   "metadata": {},
   "outputs": [
    {
     "name": "stdout",
     "output_type": "stream",
     "text": [
      "[]\n",
      "[5.0]\n",
      "[1.0, 1.5, 2.0, 2.5, 3.0]\n",
      "[0.0, 0.0, 0.0, 0.0]\n",
      "[-1.0, -1.5, -2.0, -2.5, -3.0]\n",
      "[10.0, 2.5, 2.6666666666666665, 4.0, 2.8]\n"
     ]
    }
   ],
   "source": [
    "def prefix_average1(S): \n",
    "    n = len(S) # executes in constant time\n",
    "    A = [0] * n # create new list of n zeros\n",
    "    for j in range(n):\n",
    "        total = 0 # begin computing\n",
    "        for i in range(j + 1):\n",
    "          total += S[i]\n",
    "        A[j] = total / (j + 1) # record the average\n",
    "    return A\n",
    "# Test case 1: Empty list\n",
    "print(prefix_average1([]))  # Output: []\n",
    "\n",
    "# Test case 2: List with one element\n",
    "print(prefix_average1([5]))  # Output: [5.0]\n",
    "\n",
    "# Test case 3: List with multiple elements\n",
    "print(prefix_average1([1, 2, 3, 4, 5]))  # Output: [1.0, 1.5, 2.0, 2.5, 3.0]\n",
    "\n",
    "# Test case 4: List with all zeros\n",
    "print(prefix_average1([0, 0, 0, 0]))  # Output: [0.0, 0.0, 0.0, 0.0]\n",
    "\n",
    "# Test case 5: List with negative numbers\n",
    "print(prefix_average1([-1, -2, -3, -4, -5]))  # Output: [-1.0, -1.5, -2.0, -2.5, -3.0]\n",
    "\n",
    "# Test case 6: List with mixed positive and negative numbers\n",
    "print(prefix_average1([10, -5, 3, 8, -2]))  # Output: [10.0, 2.5, 2.6666666666666665, 4.0, 2.8]"
   ]
  },
  {
   "cell_type": "code",
   "execution_count": null,
   "id": "4f09e22e-f8c2-408c-b991-5d005f7c6233",
   "metadata": {},
   "outputs": [],
   "source": [
    "This prefix algorithm can be used in anylzing data over time and space[tracking cumulative sales, distances travelled, scores in a game]"
   ]
  },
  {
   "cell_type": "code",
   "execution_count": 21,
   "id": "c5ccd219-119a-4498-81ae-e2d88c04063f",
   "metadata": {},
   "outputs": [
    {
     "name": "stdout",
     "output_type": "stream",
     "text": [
      "[1, 3, 6, 10, 15]\n",
      "[-1, -3, -6, -10, -15]\n",
      "[10, 5, 8, 16, 14]\n",
      "[7, 11, 18, 22, 29, 33]\n",
      "[42]\n",
      "[]\n"
     ]
    }
   ],
   "source": [
    "def prefix_average2(S):\n",
    "    n = len(S)\n",
    "    A = [0] * n\n",
    "    for j in range(n):\n",
    "        A[j] = sum(S[0:j + 1])\n",
    "    return A\n",
    "# Test case 1: List with positive numbers\n",
    "print(prefix_average2([1, 2, 3, 4, 5]))  # Output: [1, 3, 6, 10, 15]\n",
    "\n",
    "# Test case 2: List with negative numbers\n",
    "print(prefix_average2([-1, -2, -3, -4, -5]))  # Output: [-1, -3, -6, -10, -15]\n",
    "\n",
    "# Test case 3: List with mixed positive and negative numbers\n",
    "print(prefix_average2([10, -5, 3, 8, -2]))  # Output: [10, 5, 8, 16, 14]\n",
    "\n",
    "# Test case 4: List with repeating maximum value\n",
    "print(prefix_average2([7, 4, 7, 4, 7, 4]))  # Output: [7, 11, 18, 22, 29, 33]\n",
    "\n",
    "# Test case 5: List with one element\n",
    "print(prefix_average2([42]))  # Output: [42]\n",
    "\n",
    "# Test case 6: Empty list\n",
    "print(prefix_average2([]))  # Output: []\n",
    "\n"
   ]
  },
  {
   "cell_type": "code",
   "execution_count": 24,
   "id": "02229715-53ed-4db6-b341-44d5074a1a54",
   "metadata": {},
   "outputs": [
    {
     "name": "stdout",
     "output_type": "stream",
     "text": [
      "[1.0, 1.5, 2.0, 2.5, 3.0]\n",
      "[-1.0, -1.5, -2.0, -2.5, -3.0]\n",
      "[10.0, 2.5, 2.6666666666666665, 4.0, 2.8]\n",
      "[7.0, 5.5, 6.0, 5.5, 5.8, 5.5]\n",
      "[42.0]\n",
      "[]\n"
     ]
    }
   ],
   "source": [
    "def prefix_average3(S):\n",
    "    n = len(S)\n",
    "    A = [0] * n\n",
    "    total = 0\n",
    "    for j in range(n):\n",
    "        total += S[j]\n",
    "        A[j] = total / (j + 1)\n",
    "    return A\n",
    "# Test case 1: List with positive numbers\n",
    "print(prefix_average3([1, 2, 3, 4, 5]))  # Output: [1.0, 1.5, 2.0, 2.5, 3.0]\n",
    "\n",
    "# Test case 2: List with negative numbers\n",
    "print(prefix_average3([-1, -2, -3, -4, -5]))  # Output: [-1.0, -1.5, -2.0, -2.5, -3.0]\n",
    "\n",
    "# Test case 3: List with mixed positive and negative numbers\n",
    "print(prefix_average3([10, -5, 3, 8, -2]))  # Output: [10.0, 2.5, 2.6666666666666665, 4.0, 2.8]\n",
    "\n",
    "# Test case 4: List with repeating maximum value\n",
    "print(prefix_average3([7, 4, 7, 4, 7, 4]))  # Output: [7.0, 5.5, 6.0, 5.75, 6.0, 5.833333333333333]\n",
    "\n",
    "# Test case 5: List with one element\n",
    "print(prefix_average3([42]))  # Output: [42.0]\n",
    "\n",
    "# Test case 6: Empty list\n",
    "print(prefix_average3([]))  # Output: []\n"
   ]
  },
  {
   "cell_type": "code",
   "execution_count": null,
   "id": "2a3f16fe-ea64-4130-a4c9-486b779ccb4b",
   "metadata": {},
   "outputs": [],
   "source": []
  }
 ],
 "metadata": {
  "kernelspec": {
   "display_name": "Python 3 (ipykernel)",
   "language": "python",
   "name": "python3"
  },
  "language_info": {
   "codemirror_mode": {
    "name": "ipython",
    "version": 3
   },
   "file_extension": ".py",
   "mimetype": "text/x-python",
   "name": "python",
   "nbconvert_exporter": "python",
   "pygments_lexer": "ipython3",
   "version": "3.12.2"
  }
 },
 "nbformat": 4,
 "nbformat_minor": 5
}
