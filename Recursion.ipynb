{
 "cells": [
  {
   "cell_type": "code",
   "execution_count": 3,
   "id": "3deec4c2-3fbd-4527-8f42-0e94d2e74301",
   "metadata": {},
   "outputs": [
    {
     "name": "stdout",
     "output_type": "stream",
     "text": [
      "1\n",
      "120\n",
      "3628800\n",
      "1\n"
     ]
    }
   ],
   "source": [
    "def factorial(n):\n",
    "    if n == 0:\n",
    "        return 1\n",
    "    else:\n",
    "        return n * factorial(n-1)\n",
    "# Test case 1: Factorial of 0\n",
    "print(factorial(0))  # Output: 1\n",
    "\n",
    "# Test case 2: Factorial of a small number\n",
    "print(factorial(5))  # Output: 120\n",
    "\n",
    "# Test case 3: Factorial of a larger number\n",
    "print(factorial(10))  # Output: 3628800\n",
    "\n",
    "# Test case 4: Factorial of 1\n",
    "print(factorial(1))  # Output: 1"
   ]
  },
  {
   "cell_type": "code",
   "execution_count": null,
   "id": "28b3545a-062c-4644-8827-b845ea63c629",
   "metadata": {},
   "outputs": [],
   "source": [
    "Binary search is used when dealing with sorted lists or arrays. Quickly find the position of the target value within a sorted collection.\n",
    "Used in data retrieval in databases, finding elements in API."
   ]
  },
  {
   "cell_type": "code",
   "execution_count": 6,
   "id": "5f9fac0b-07b4-4186-8201-bf1ec7624fd1",
   "metadata": {},
   "outputs": [
    {
     "name": "stdout",
     "output_type": "stream",
     "text": [
      "True\n",
      "True\n",
      "True\n",
      "False\n",
      "False\n"
     ]
    }
   ],
   "source": [
    "def binary_search(data, target, low, high):\n",
    "    if low > high:\n",
    "        return False\n",
    "    else:\n",
    "        mid = (low + high) // 2\n",
    "        if target == data[mid]:\n",
    "            return True\n",
    "        elif target < data[mid]:\n",
    "            return binary_search(data, target, low, mid -1)\n",
    "        else:\n",
    "            return binary_search(data, target, mid + 1, high)\n",
    "# Test case 1: Target is in the middle of the list\n",
    "data1 = [1, 2, 3, 4, 5, 6, 7, 8, 9]\n",
    "target1 = 5\n",
    "print(binary_search(data1, target1, 0, len(data1) - 1))  # Output: True\n",
    "\n",
    "# Test case 2: Target is at the beginning of the list\n",
    "data2 = [10, 20, 30, 40, 50, 60, 70, 80, 90]\n",
    "target2 = 10\n",
    "print(binary_search(data2, target2, 0, len(data2) - 1))  # Output: True\n",
    "\n",
    "# Test case 3: Target is at the end of the list\n",
    "data3 = [11, 22, 33, 44, 55, 66, 77, 88, 99]\n",
    "target3 = 99\n",
    "print(binary_search(data3, target3, 0, len(data3) - 1))  # Output: True\n",
    "\n",
    "# Test case 4: Target is not in the list\n",
    "data4 = [1, 3, 5, 7, 9]\n",
    "target4 = 4\n",
    "print(binary_search(data4, target4, 0, len(data4) - 1))  # Output: False\n",
    "\n",
    "# Test case 5: Empty list\n",
    "data5 = []\n",
    "target5 = 10\n",
    "print(binary_search(data5, target5, 0, len(data5) - 1))  # Output: False\n"
   ]
  },
  {
   "cell_type": "code",
   "execution_count": null,
   "id": "7a47a82f-98da-46be-b844-11e8528ea32e",
   "metadata": {},
   "outputs": [],
   "source": [
    "Write a short recursive Python function that finds the minimum and max-\n",
    "imum values in a sequence without using any loops "
   ]
  },
  {
   "cell_type": "code",
   "execution_count": 9,
   "id": "c7da2420-7079-44b3-a511-13db72b4baf0",
   "metadata": {},
   "outputs": [
    {
     "name": "stdout",
     "output_type": "stream",
     "text": [
      "Minimum value: -5\n",
      "Maximum value: 10\n"
     ]
    }
   ],
   "source": [
    "def minmax_recursive(seq):\n",
    "    if len(seq) == 1:\n",
    "        return seq[0], seq[0]\n",
    "    elif len(seq) == 2:\n",
    "        return (seq[0], seq[1]) if seq[0] < seq[1] else (seq[1],seq[0])\n",
    "    else:\n",
    "        mid = len(seq) //2\n",
    "        left_min, left_max = minmax_recursive(seq[:mid])\n",
    "        right_min, right_max = minmax_recursive(seq[mid:])\n",
    "        return min(left_min, right_min), max(left_max, right_max)\n",
    "# Test case: List with positive and negative numbers\n",
    "seq = [7, -5, 3, 8, -2, 10, 1]\n",
    "min_value, max_value = minmax_recursive(seq)\n",
    "print(\"Minimum value:\", min_value)  # Output: -5\n",
    "print(\"Maximum value:\", max_value)  # Output: 10\n"
   ]
  },
  {
   "cell_type": "code",
   "execution_count": null,
   "id": "43fd5f8d-445b-4485-b7d5-726da35d67ef",
   "metadata": {},
   "outputs": [],
   "source": []
  }
 ],
 "metadata": {
  "kernelspec": {
   "display_name": "Python 3 (ipykernel)",
   "language": "python",
   "name": "python3"
  },
  "language_info": {
   "codemirror_mode": {
    "name": "ipython",
    "version": 3
   },
   "file_extension": ".py",
   "mimetype": "text/x-python",
   "name": "python",
   "nbconvert_exporter": "python",
   "pygments_lexer": "ipython3",
   "version": "3.12.2"
  }
 },
 "nbformat": 4,
 "nbformat_minor": 5
}
