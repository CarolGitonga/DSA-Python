{
 "cells": [
  {
   "cell_type": "code",
   "execution_count": null,
   "id": "ea43a9e5-bf61-4bb3-87bc-d52daecf7ed5",
   "metadata": {},
   "outputs": [],
   "source": [
    "Stack algorithms are useful in undo/redo functionality, backtracking [sudoku games, maze], browser history, state machines"
   ]
  },
  {
   "cell_type": "code",
   "execution_count": 1,
   "id": "ff4d9283-b1d3-4eee-9db6-28ac4e09d3b3",
   "metadata": {},
   "outputs": [
    {
     "name": "stdout",
     "output_type": "stream",
     "text": [
      "Stack size: 3\n",
      "Is stack empty? False\n",
      "Top element: 30\n",
      "Popped element: 30\n",
      "Updated stack size: 2\n"
     ]
    }
   ],
   "source": [
    "class ArrayStack: # LIFO\n",
    "    def __init__(self):\n",
    "        self._data = [] # create an empty stack\n",
    "    def __len__(self):\n",
    "        return len(self._data) # return the number of elements in the stack\n",
    "    def is_empty(self):\n",
    "        return len(self._data) == 0 # return True if the stack is empty\n",
    "    def push(self, e):\n",
    "        self._data.append(e) #add element e to the top of the stack\n",
    "    def top(self):\n",
    "        if self.is_empty():\n",
    "            raise Empty('Stack is empty')\n",
    "        return self._data[-1] #the last item in the list\n",
    "    def pop(self):\n",
    "        if self.is_empty():\n",
    "            raise Empty('Stack is empty')\n",
    "        return self._data.pop() # remove the last item from the list\n",
    "        \n",
    "stack = ArrayStack()\n",
    "stack.push(10)\n",
    "stack.push(20)\n",
    "stack.push(30)\n",
    "\n",
    "print(\"Stack size:\", len(stack))  # Output: 3\n",
    "print(\"Is stack empty?\", stack.is_empty())  # Output: False\n",
    "print(\"Top element:\", stack.top())  # Output: 30\n",
    "\n",
    "popped_element = stack.pop()\n",
    "print(\"Popped element:\", popped_element)  # Output: 30\n",
    "print(\"Updated stack size:\", len(stack))  # Output: 2\n",
    "\n",
    "        "
   ]
  },
  {
   "cell_type": "code",
   "execution_count": null,
   "id": "d1bf2117-a268-401a-9b27-216f6f9c9f2e",
   "metadata": {},
   "outputs": [],
   "source": [
    "Queues are useful in job scheduling[round-robin in os], print queue[printers-jobs are processed in the order they are received],\n",
    "event-handling, multithreading and concurrency"
   ]
  },
  {
   "cell_type": "code",
   "execution_count": 9,
   "id": "92ea5cda-8854-41a4-97f3-b1ca48377779",
   "metadata": {},
   "outputs": [
    {
     "name": "stdout",
     "output_type": "stream",
     "text": [
      "Queue size: 3\n",
      "Is queue empty? False\n",
      "First element: 10\n",
      "Removed element: 10\n",
      "Updated queue size: 2\n",
      "First element after dequeue: 20\n"
     ]
    }
   ],
   "source": [
    "class ArrayQueue: # FIFO\n",
    "    DEFAULT_CAPACITY = 10 # moderate capacity for all new queues\n",
    "    def __init__(self):\n",
    "        self._data = [None] * ArrayQueue.DEFAULT_CAPACITY # create an empty queue\n",
    "        self._size = 0\n",
    "        self._front = 0\n",
    "    def __len__(self):\n",
    "        return self._size # return the number of elements in the queue\n",
    "    def is_empty(self):\n",
    "        return self._size == 0 # return true if the queue is empty\n",
    "    def first(self):\n",
    "        if self.is_empty():\n",
    "            raise Empty('Queue is empty')\n",
    "        return self._data[self._front]\n",
    "    def dequeue(self):\n",
    "        if self.is_empty():\n",
    "            raise Empty('Queue is empty')\n",
    "        answer = self._data[self._front]\n",
    "        self._data[self._front] = None # help garbage collection\n",
    "        self._front = (self._front + 1) % len(self._data)\n",
    "        self._size -= 1\n",
    "        return answer\n",
    "    def enqueue(self, e):\n",
    "        if self._size == len(self._data):\n",
    "            self._resize(2 * len(self._data))  # double the capacity if full\n",
    "        avail = (self._front + self._size) % len(self._data)\n",
    "        self._data[avail] = e\n",
    "        self._size += 1\n",
    "\n",
    "    def _resize(self, cap):\n",
    "        old = self._data\n",
    "        self._data = [None] * cap\n",
    "        walk = self._front\n",
    "        for k in range(self._size):\n",
    "            self._data[k] = old[walk]\n",
    "            walk = (walk + 1) % len(old)\n",
    "        self._front = 0\n",
    "# Create an instance of ArrayQueue for testing\n",
    "queue = ArrayQueue()\n",
    "\n",
    "# Test case 1: Adding elements to the queue\n",
    "queue.enqueue(10)\n",
    "queue.enqueue(20)\n",
    "queue.enqueue(30)\n",
    "\n",
    "print(\"Queue size:\", len(queue))  # Output: 3\n",
    "print(\"Is queue empty?\", queue.is_empty())  # Output: False\n",
    "print(\"First element:\", queue.first())  # Output: 10\n",
    "\n",
    "# Test case 2: Removing elements from the queue\n",
    "removed_element = queue.dequeue()\n",
    "print(\"Removed element:\", removed_element)  # Output: 10\n",
    "print(\"Updated queue size:\", len(queue))  # Output: 2\n",
    "print(\"First element after dequeue:\", queue.first())  # Output: 20\n",
    "\n"
   ]
  },
  {
   "cell_type": "code",
   "execution_count": null,
   "id": "f39cdf0f-6dac-492c-a4eb-cc1d16561302",
   "metadata": {},
   "outputs": [],
   "source": []
  }
 ],
 "metadata": {
  "kernelspec": {
   "display_name": "Python 3 (ipykernel)",
   "language": "python",
   "name": "python3"
  },
  "language_info": {
   "codemirror_mode": {
    "name": "ipython",
    "version": 3
   },
   "file_extension": ".py",
   "mimetype": "text/x-python",
   "name": "python",
   "nbconvert_exporter": "python",
   "pygments_lexer": "ipython3",
   "version": "3.12.2"
  }
 },
 "nbformat": 4,
 "nbformat_minor": 5
}
